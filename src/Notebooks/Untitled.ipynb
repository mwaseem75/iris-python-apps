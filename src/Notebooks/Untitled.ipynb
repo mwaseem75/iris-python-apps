{
 "cells": [
  {
   "cell_type": "code",
   "execution_count": 1,
   "id": "fc913b96",
   "metadata": {},
   "outputs": [],
   "source": [
    "import iris\n",
    "import irisnative\n"
   ]
  },
  {
   "cell_type": "code",
   "execution_count": 2,
   "id": "747e8ddf",
   "metadata": {},
   "outputs": [
    {
     "ename": "RuntimeError",
     "evalue": "iris.class: error finding class",
     "output_type": "error",
     "traceback": [
      "\u001b[0;31m---------------------------------------------------------------------------\u001b[0m",
      "\u001b[0;31mRuntimeError\u001b[0m                              Traceback (most recent call last)",
      "Input \u001b[0;32mIn [2]\u001b[0m, in \u001b[0;36m<module>\u001b[0;34m\u001b[0m\n\u001b[0;32m----> 1\u001b[0m sts \u001b[38;5;241m=\u001b[39m \u001b[43miris\u001b[49m\u001b[38;5;241;43m.\u001b[39;49m\u001b[43mcls\u001b[49m\u001b[43m(\u001b[49m\u001b[38;5;124;43m'\u001b[39;49m\u001b[38;5;124;43mSYS.Stats.Dashboard\u001b[39;49m\u001b[38;5;124;43m'\u001b[39;49m\u001b[43m)\u001b[49m\u001b[38;5;241m.\u001b[39mSample()\n",
      "\u001b[0;31mRuntimeError\u001b[0m: iris.class: error finding class"
     ]
    }
   ],
   "source": [
    "sts = iris.cls('SYS.Stats.Dashboard').Sample()"
   ]
  },
  {
   "cell_type": "code",
   "execution_count": 3,
   "id": "c44f949a",
   "metadata": {},
   "outputs": [],
   "source": [
    "import irisnative"
   ]
  },
  {
   "cell_type": "code",
   "execution_count": 4,
   "id": "79a52add",
   "metadata": {},
   "outputs": [
    {
     "ename": "AttributeError",
     "evalue": "module 'iris' has no attribute 'createConnection'",
     "output_type": "error",
     "traceback": [
      "\u001b[0;31m---------------------------------------------------------------------------\u001b[0m",
      "\u001b[0;31mAttributeError\u001b[0m                            Traceback (most recent call last)",
      "Input \u001b[0;32mIn [4]\u001b[0m, in \u001b[0;36m<module>\u001b[0;34m\u001b[0m\n\u001b[0;32m----> 1\u001b[0m connection \u001b[38;5;241m=\u001b[39m \u001b[43mirisnative\u001b[49m\u001b[38;5;241;43m.\u001b[39;49m\u001b[43mcreateConnection\u001b[49m\u001b[43m(\u001b[49m\u001b[38;5;124;43m\"\u001b[39;49m\u001b[38;5;124;43mlocalhost\u001b[39;49m\u001b[38;5;124;43m\"\u001b[39;49m\u001b[43m,\u001b[49m\u001b[43m \u001b[49m\u001b[38;5;241;43m1972\u001b[39;49m\u001b[43m,\u001b[49m\u001b[43m \u001b[49m\u001b[38;5;124;43m\"\u001b[39;49m\u001b[38;5;124;43mUSER\u001b[39;49m\u001b[38;5;124;43m\"\u001b[39;49m\u001b[43m,\u001b[49m\u001b[43m \u001b[49m\u001b[38;5;124;43m\"\u001b[39;49m\u001b[38;5;124;43msuperuser\u001b[39;49m\u001b[38;5;124;43m\"\u001b[39;49m\u001b[43m,\u001b[49m\u001b[43m \u001b[49m\u001b[38;5;124;43m\"\u001b[39;49m\u001b[38;5;124;43mSYS\u001b[39;49m\u001b[38;5;124;43m\"\u001b[39;49m\u001b[43m,\u001b[49m\u001b[43m \u001b[49m\u001b[43msharedmemory\u001b[49m\u001b[43m \u001b[49m\u001b[38;5;241;43m=\u001b[39;49m\u001b[43m \u001b[49m\u001b[38;5;28;43;01mTrue\u001b[39;49;00m\u001b[43m)\u001b[49m\n\u001b[1;32m      2\u001b[0m myIris \u001b[38;5;241m=\u001b[39m irisnative\u001b[38;5;241m.\u001b[39mcreateIris(connection)\n",
      "File \u001b[0;32m~/.local/lib/python3.8/site-packages/irisnative/IRISNative.py:5\u001b[0m, in \u001b[0;36mcreateConnection\u001b[0;34m(connectionstr, hostname, port, namespace, username, password, timeout, sharedmemory, logfile, *args)\u001b[0m\n\u001b[1;32m      3\u001b[0m \u001b[38;5;28;01mdef\u001b[39;00m \u001b[38;5;21mcreateConnection\u001b[39m(\u001b[38;5;241m*\u001b[39margs, connectionstr\u001b[38;5;241m=\u001b[39m\u001b[38;5;28;01mNone\u001b[39;00m, hostname\u001b[38;5;241m=\u001b[39m\u001b[38;5;28;01mNone\u001b[39;00m, port\u001b[38;5;241m=\u001b[39m\u001b[38;5;28;01mNone\u001b[39;00m,  namespace\u001b[38;5;241m=\u001b[39m\u001b[38;5;28;01mNone\u001b[39;00m, username\u001b[38;5;241m=\u001b[39m\u001b[38;5;28;01mNone\u001b[39;00m, password\u001b[38;5;241m=\u001b[39m\u001b[38;5;28;01mNone\u001b[39;00m, timeout\u001b[38;5;241m=\u001b[39m\u001b[38;5;28;01mNone\u001b[39;00m, sharedmemory\u001b[38;5;241m=\u001b[39m\u001b[38;5;28;01mNone\u001b[39;00m, logfile\u001b[38;5;241m=\u001b[39m\u001b[38;5;28;01mNone\u001b[39;00m):\n\u001b[1;32m      4\u001b[0m \t\u001b[38;5;124;03m'''This method has been deprecated. Please use iris.createConnection(...)'''\u001b[39;00m\n\u001b[0;32m----> 5\u001b[0m \t\u001b[38;5;28;01mreturn\u001b[39;00m \u001b[43miris\u001b[49m\u001b[38;5;241;43m.\u001b[39;49m\u001b[43mcreateConnection\u001b[49m(\u001b[38;5;241m*\u001b[39margs, connectionstr\u001b[38;5;241m=\u001b[39mconnectionstr, hostname\u001b[38;5;241m=\u001b[39mhostname, port\u001b[38;5;241m=\u001b[39mport,  namespace\u001b[38;5;241m=\u001b[39mnamespace, username\u001b[38;5;241m=\u001b[39musername, password\u001b[38;5;241m=\u001b[39mpassword, timeout\u001b[38;5;241m=\u001b[39mtimeout, sharedmemory\u001b[38;5;241m=\u001b[39msharedmemory, logfile\u001b[38;5;241m=\u001b[39mlogfile)\n",
      "\u001b[0;31mAttributeError\u001b[0m: module 'iris' has no attribute 'createConnection'"
     ]
    }
   ],
   "source": [
    "connection = irisnative.createConnection(\"localhost\", 1972, \"USER\", \"superuser\", \"SYS\", sharedmemory = True)\n",
    "myIris = irisnative.createIris(connection)"
   ]
  },
  {
   "cell_type": "code",
   "execution_count": null,
   "id": "bc69489e",
   "metadata": {},
   "outputs": [],
   "source": []
  }
 ],
 "metadata": {
  "kernelspec": {
   "display_name": "IRIS Python",
   "language": "python",
   "name": "irispython"
  },
  "language_info": {
   "codemirror_mode": {
    "name": "ipython",
    "version": 3
   },
   "file_extension": ".py",
   "mimetype": "text/x-python",
   "name": "python",
   "nbconvert_exporter": "python",
   "pygments_lexer": "ipython3",
   "version": "3.8.10"
  }
 },
 "nbformat": 4,
 "nbformat_minor": 5
}
