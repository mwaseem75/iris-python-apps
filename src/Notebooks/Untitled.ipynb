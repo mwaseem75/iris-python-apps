{
 "cells": [
  {
   "cell_type": "code",
   "execution_count": 1,
   "id": "fc913b96",
   "metadata": {},
   "outputs": [],
   "source": [
    "import iris\n"
   ]
  },
  {
   "cell_type": "code",
   "execution_count": 3,
   "id": "747e8ddf",
   "metadata": {},
   "outputs": [
    {
     "ename": "RuntimeError",
     "evalue": "iris.class: error finding class",
     "output_type": "error",
     "traceback": [
      "\u001b[0;31m---------------------------------------------------------------------------\u001b[0m",
      "\u001b[0;31mRuntimeError\u001b[0m                              Traceback (most recent call last)",
      "Input \u001b[0;32mIn [3]\u001b[0m, in \u001b[0;36m<module>\u001b[0;34m\u001b[0m\n\u001b[0;32m----> 1\u001b[0m sts \u001b[38;5;241m=\u001b[39m \u001b[43miris\u001b[49m\u001b[38;5;241;43m.\u001b[39;49m\u001b[43mcls\u001b[49m\u001b[43m(\u001b[49m\u001b[38;5;124;43m'\u001b[39;49m\u001b[38;5;124;43mSYS.Stats.Dashboard\u001b[39;49m\u001b[38;5;124;43m'\u001b[39;49m\u001b[43m)\u001b[49m\u001b[38;5;241m.\u001b[39mSample()\n",
      "\u001b[0;31mRuntimeError\u001b[0m: iris.class: error finding class"
     ]
    }
   ],
   "source": [
    "sts = iris.cls('SYS.Stats.Dashboard').Sample()"
   ]
  },
  {
   "cell_type": "code",
   "execution_count": null,
   "id": "79a52add",
   "metadata": {},
   "outputs": [],
   "source": []
  }
 ],
 "metadata": {
  "kernelspec": {
   "display_name": "IRIS Python",
   "language": "python",
   "name": "irispython"
  },
  "language_info": {
   "codemirror_mode": {
    "name": "ipython",
    "version": 3
   },
   "file_extension": ".py",
   "mimetype": "text/x-python",
   "name": "python",
   "nbconvert_exporter": "python",
   "pygments_lexer": "ipython3",
   "version": "3.8.10"
  }
 },
 "nbformat": 4,
 "nbformat_minor": 5
}
