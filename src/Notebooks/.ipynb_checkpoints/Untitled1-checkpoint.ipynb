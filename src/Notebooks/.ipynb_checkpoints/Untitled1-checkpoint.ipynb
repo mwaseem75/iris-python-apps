{
 "cells": [
  {
   "cell_type": "code",
   "execution_count": 1,
   "id": "4aa6a558",
   "metadata": {},
   "outputs": [
    {
     "ename": "SyntaxError",
     "evalue": "invalid syntax (2399709612.py, line 5)",
     "output_type": "error",
     "traceback": [
      "\u001b[0;36m  Input \u001b[0;32mIn [1]\u001b[0;36m\u001b[0m\n\u001b[0;31m    if color == 1;\u001b[0m\n\u001b[0m                 ^\u001b[0m\n\u001b[0;31mSyntaxError\u001b[0m\u001b[0;31m:\u001b[0m invalid syntax\n"
     ]
    }
   ],
   "source": [
    "import curses\n",
    "screen = curses.initscr()\n",
    "\n",
    "def switcher(color):\n",
    "    if color == 1;\n",
    "        return 2\n",
    "    else:\n",
    "        return 1\n",
    "\n",
    "try:\n",
    "\tscreen.border(0)\n",
    "\tscreen.refresh()\n",
    "\tcurses.start_color()\n",
    "\tcurses.init_pair(1, curses.COLOR.RED, curses.COLOR_YELLOW)\n",
    "\tcurses.init_pair(2, curses.COLOR.YELLOW, curses.COLOR_RED)\n",
    "\tx, y = 3, 3\n",
    "\tw = 6\n",
    "\th = 10\n",
    "\tcounter = 0\n",
    "\tcolor = 1\n",
    "\tfor sq in range(64):\n",
    "\t\tcolor = swither(color)\n",
    "\t\tbox = curses.newwin(w, h, x, y)\n",
    "\t\tbox.bkgrd(' ', curses.color_pair(color) | curses.A_BOLD)\n",
    "\t\tbox.box()\n",
    "\t\tbox.refresh()\n",
    "\t\tcounter += 1\n",
    "\t\tx = x + w\n",
    "\t\tif counter % 8 == 0:\n",
    "\t\t\ty = y + h\n",
    "\t\t\tx = 3\n",
    "\t\t\tcolor = swither(color)\n",
    "\tscreen.getch()\n",
    "\n",
    "finally:\n",
    "\tcurses.endwin()"
   ]
  },
  {
   "cell_type": "code",
   "execution_count": null,
   "id": "1c457b2f",
   "metadata": {},
   "outputs": [],
   "source": []
  }
 ],
 "metadata": {
  "kernelspec": {
   "display_name": "Python 3 (ipykernel)",
   "language": "python",
   "name": "python3"
  },
  "language_info": {
   "codemirror_mode": {
    "name": "ipython",
    "version": 3
   },
   "file_extension": ".py",
   "mimetype": "text/x-python",
   "name": "python",
   "nbconvert_exporter": "python",
   "pygments_lexer": "ipython3",
   "version": "3.8.10"
  }
 },
 "nbformat": 4,
 "nbformat_minor": 5
}
